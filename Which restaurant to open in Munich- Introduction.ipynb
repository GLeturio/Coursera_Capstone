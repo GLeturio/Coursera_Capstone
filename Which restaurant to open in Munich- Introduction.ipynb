{
 "cells": [
  {
   "cell_type": "markdown",
   "metadata": {},
   "source": [
    "# The Context\n",
    "A friend of mine just moved to Munich. He wishes to open a restaurant that would appear exotic and rare to the locals.\n",
    "Since Munich is a central city in Europe, there a lot of people from many backgrounds and many restaurants from various nationalities.\n",
    "Despite his will to open a restaurant, he is a pretty bad cook but a good businessman. He believes he can recruit the right people to do the job, provided that he is sure the demand is there.\n",
    "\n",
    "His objective is to find the right spot to open it so there is enough people to visit his restaurant but not too much competition , and to define the nationality of the cuisine so he can recruit the cooks that will be experts in this particular cuisine."
   ]
  },
  {
   "cell_type": "markdown",
   "metadata": {},
   "source": [
    "# The Question\n",
    "Where is the best place to open an exotic restaurant in Munich and what type of cuisine should be served ?\n",
    "\n",
    "## Necessary definitions\n",
    "   ### What is exotic ?\n",
    "    The local culture could be defined as :\n",
    "        1) Western\n",
    "        2) European\n",
    "        3) South German / Bavarian"
   ]
  },
  {
   "cell_type": "markdown",
   "metadata": {},
   "source": [
    "# The Data\n",
    "\n",
    "## Geographical Data\n",
    "We will need information regarding the districts of Munich, and their postal codes in order to be able to allocate the venues to a district. Information regading the population density will also be required in order to anticipate demand.\n",
    "The list has been recovered from Wikipedia and saved as \"Munchen_Neighbourhood.csv\"\n",
    "\n",
    "## Social Data\n",
    "We will need the list of nationalities found in Munich and their representation. This will help to identify is we can possibly recruit people who know the cuisine we want to set up. Not all the nationalities or cusine cultures are present in Munich.\n",
    "\n",
    "## Venues Data\n",
    "We will need a complete list of restaurants found in Munich, their location, the type of food served and the level of activity of the restaurant(number of votes). We will use the Foursquare API for this.\n",
    "\n",
    "This data will allow us the investigate the restaurants found in each postal code of Munich, the type of cuisine served (offer) and to contrast it with the possible local demand to dertermine where to open which restaurant.  "
   ]
  },
  {
   "cell_type": "code",
   "execution_count": null,
   "metadata": {},
   "outputs": [],
   "source": []
  }
 ],
 "metadata": {
  "kernelspec": {
   "display_name": "Python 3",
   "language": "python",
   "name": "python3"
  },
  "language_info": {
   "codemirror_mode": {
    "name": "ipython",
    "version": 3
   },
   "file_extension": ".py",
   "mimetype": "text/x-python",
   "name": "python",
   "nbconvert_exporter": "python",
   "pygments_lexer": "ipython3",
   "version": "3.6.7"
  }
 },
 "nbformat": 4,
 "nbformat_minor": 2
}
